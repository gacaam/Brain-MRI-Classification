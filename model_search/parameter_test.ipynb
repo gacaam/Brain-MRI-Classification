{
 "cells": [
  {
   "cell_type": "code",
   "execution_count": 1,
   "id": "4f52b16f",
   "metadata": {},
   "outputs": [
    {
     "name": "stderr",
     "output_type": "stream",
     "text": [
      "2023-06-09 15:54:22.587654: I tensorflow/core/platform/cpu_feature_guard.cc:194] This TensorFlow binary is optimized with oneAPI Deep Neural Network Library (oneDNN) to use the following CPU instructions in performance-critical operations:  SSE3 SSE4.1 SSE4.2 AVX\n",
      "To enable them in other operations, rebuild TensorFlow with the appropriate compiler flags.\n"
     ]
    }
   ],
   "source": [
    "import tensorflow as tf\n",
    "from tensorflow.keras.models import Sequential\n",
    "from tensorflow.keras.layers import Conv2D, MaxPooling2D, Flatten, Dense\n",
    "import matplotlib.pyplot as plt\n",
    "import numpy as np\n",
    "# import os\n",
    "# import pandas as pd"
   ]
  },
  {
   "cell_type": "markdown",
   "id": "920c3763",
   "metadata": {},
   "source": [
    "## Dataset preparation"
   ]
  },
  {
   "cell_type": "markdown",
   "id": "c3437d9e",
   "metadata": {},
   "source": [
    "### Set parameters"
   ]
  },
  {
   "cell_type": "code",
   "execution_count": 72,
   "id": "52d36061",
   "metadata": {},
   "outputs": [],
   "source": [
    "batch_size = 16\n",
    "img_height = 184\n",
    "img_width = 216\n",
    "img_size = (img_height, img_width)\n",
    "img_shape = img_size + (3,)\n",
    "ds_path = \"/drive0-storage/Gracia/dataset_1\""
   ]
  },
  {
   "cell_type": "markdown",
   "id": "994967e6",
   "metadata": {},
   "source": [
    "### Load dataset"
   ]
  },
  {
   "cell_type": "code",
   "execution_count": 74,
   "id": "79cee61b",
   "metadata": {},
   "outputs": [
    {
     "name": "stdout",
     "output_type": "stream",
     "text": [
      "Found 21408 files belonging to 3 classes.\n",
      "Using 17127 files for training.\n",
      "Found 21408 files belonging to 3 classes.\n",
      "Using 4281 files for validation.\n"
     ]
    }
   ],
   "source": [
    "from tensorflow.keras.utils import image_dataset_from_directory\n",
    "\n",
    "with tf.device(\"CPU\"):\n",
    "    train_ds = image_dataset_from_directory(ds_path,\n",
    "                                        validation_split = 0.2,\n",
    "                                        subset = \"training\",\n",
    "                                        seed = 123,\n",
    "                                        image_size = img_size,\n",
    "                                        batch_size = batch_size)\n",
    "    \n",
    "    val_ds = image_dataset_from_directory(ds_path,\n",
    "                                      validation_split = 0.2,\n",
    "                                      subset = \"validation\",\n",
    "                                      seed = 123,\n",
    "                                      image_size = img_size,\n",
    "                                      batch_size = batch_size)"
   ]
  },
  {
   "cell_type": "code",
   "execution_count": 66,
   "id": "85faecd4",
   "metadata": {},
   "outputs": [],
   "source": [
    "#os.rmdir(\"/drive0-storage/Gracia/dataset/.ipynb_checkpoints\")"
   ]
  },
  {
   "cell_type": "code",
   "execution_count": 67,
   "id": "1b1412f7",
   "metadata": {},
   "outputs": [
    {
     "name": "stdout",
     "output_type": "stream",
     "text": [
      "['bipolar_disorder', 'healthy_controls', 'schizophrenia']\n"
     ]
    }
   ],
   "source": [
    "class_names = train_ds.class_names\n",
    "num_classes = len(class_names)\n",
    "\n",
    "print(class_names)"
   ]
  },
  {
   "cell_type": "markdown",
   "id": "30c78dcb",
   "metadata": {},
   "source": [
    "### Test set"
   ]
  },
  {
   "cell_type": "code",
   "execution_count": 75,
   "id": "97d52d81",
   "metadata": {},
   "outputs": [],
   "source": [
    "with tf.device(\"CPU\"):\n",
    "    val_batches = tf.data.experimental.cardinality(val_ds)\n",
    "    test_dataset = val_ds.take(val_batches // 2)\n",
    "    validation_dataset = val_ds.skip(val_batches // 2)"
   ]
  },
  {
   "cell_type": "code",
   "execution_count": 76,
   "id": "9686f3b4",
   "metadata": {},
   "outputs": [],
   "source": [
    "# Buffered prefetching\n",
    "AUTOTUNE = tf.data.AUTOTUNE\n",
    "\n",
    "with tf.device(\"CPU\"):\n",
    "    train_dataset = train_ds.prefetch(buffer_size = AUTOTUNE)\n",
    "    validation_dataset = validation_dataset.prefetch(buffer_size = AUTOTUNE)\n",
    "    test_dataset = test_dataset.prefetch(buffer_size = AUTOTUNE)"
   ]
  },
  {
   "cell_type": "code",
   "execution_count": 51,
   "id": "66cb1735",
   "metadata": {},
   "outputs": [
    {
     "name": "stdout",
     "output_type": "stream",
     "text": [
      "(32, 184, 216, 3)\n",
      "<dtype: 'float32'>\n",
      "0.0 248.0\n"
     ]
    }
   ],
   "source": [
    "for images in train_ds.take(1):\n",
    "    img = images[0]\n",
    "    print(img.shape)  \n",
    "    print(img.dtype)  \n",
    "    print(np.min(img),np.max(img))  "
   ]
  },
  {
   "cell_type": "code",
   "execution_count": 9,
   "id": "e33c3058",
   "metadata": {},
   "outputs": [
    {
     "data": {
      "text/plain": [
       "67"
      ]
     },
     "execution_count": 9,
     "metadata": {},
     "output_type": "execute_result"
    }
   ],
   "source": [
    "len(validation_dataset)"
   ]
  },
  {
   "cell_type": "markdown",
   "id": "117152d9",
   "metadata": {},
   "source": [
    "## Model building"
   ]
  },
  {
   "cell_type": "code",
   "execution_count": 52,
   "id": "2a15c25f",
   "metadata": {},
   "outputs": [],
   "source": [
    "def build_vgg16():\n",
    "    model = Sequential()\n",
    "    \n",
    "    # Block 1\n",
    "    model.add(Conv2D(64, (3, 3), activation='relu', padding='same', input_shape=img_shape))\n",
    "    model.add(Conv2D(64, (3, 3), activation='relu', padding='same'))\n",
    "    model.add(MaxPooling2D(pool_size=(2, 2), strides=(2, 2)))\n",
    "\n",
    "    # Block 2\n",
    "    model.add(Conv2D(128, (3, 3), activation='relu', padding='same'))\n",
    "    model.add(Conv2D(128, (3, 3), activation='relu', padding='same'))\n",
    "    model.add(MaxPooling2D(pool_size=(2, 2), strides=(2, 2)))\n",
    "\n",
    "    # Block 3\n",
    "    model.add(Conv2D(256, (3, 3), activation='relu', padding='same'))\n",
    "    model.add(Conv2D(256, (3, 3), activation='relu', padding='same'))\n",
    "    model.add(Conv2D(256, (3, 3), activation='relu', padding='same'))\n",
    "    model.add(MaxPooling2D(pool_size=(2, 2), strides=(2, 2)))\n",
    "\n",
    "    # Block 4\n",
    "    model.add(Conv2D(512, (3, 3), activation='relu', padding='same'))\n",
    "    model.add(Conv2D(512, (3, 3), activation='relu', padding='same'))\n",
    "    model.add(Conv2D(512, (3, 3), activation='relu', padding='same'))\n",
    "    model.add(MaxPooling2D(pool_size=(2, 2), strides=(2, 2)))\n",
    "\n",
    "    # Block 5\n",
    "    model.add(Conv2D(512, (3, 3), activation='relu', padding='same'))\n",
    "    model.add(Conv2D(512, (3, 3), activation='relu', padding='same'))\n",
    "    model.add(Conv2D(512, (3, 3), activation='relu', padding='same'))\n",
    "    model.add(MaxPooling2D(pool_size=(2, 2), strides=(2, 2)))\n",
    "\n",
    "    # Flatten the output and create fully connected layers\n",
    "    model.add(Flatten())\n",
    "    model.add(Dense(4096, activation='relu'))\n",
    "    model.add(Dense(4096, activation='relu'))\n",
    "    model.add(tf.keras.layers.Dropout(0.4))\n",
    "    model.add(Dense(num_classes, activation='softmax'))  \n",
    "    \n",
    "    return model"
   ]
  },
  {
   "cell_type": "code",
   "execution_count": 89,
   "id": "fe0cade8",
   "metadata": {},
   "outputs": [],
   "source": [
    "with tf.device(\"GPU\"):\n",
    "    vgg16 = build_vgg16()\n",
    "\n",
    "    # add rescale layer, chain model\n",
    "    rescale = tf.keras.layers.Rescaling(1./255)\n",
    "    inputs = tf.keras.Input(shape = img_shape)\n",
    "    x = rescale(inputs)\n",
    "    outputs = vgg16(x)\n",
    "    model = tf.keras.Model(inputs,outputs) \n",
    "    \n",
    "    # compile model\n",
    "    model.compile(optimizer=tf.keras.optimizers.SGD(learning_rate = 1e-3),\n",
    "                  loss=tf.keras.losses.SparseCategoricalCrossentropy(from_logits = False),\n",
    "                  metrics=['accuracy'])"
   ]
  },
  {
   "cell_type": "markdown",
   "id": "b3b5ac7e",
   "metadata": {},
   "source": [
    "## Model training"
   ]
  },
  {
   "cell_type": "code",
   "execution_count": null,
   "id": "6e35de0e",
   "metadata": {},
   "outputs": [],
   "source": [
    "# Callback function\n",
    "class myCallback(tf.keras.callbacks.Callback):\n",
    "    def on_epoch_end(self, epoch, logs={}):\n",
    "        if(logs.get('accuracy')>0.95):\n",
    "            print(\"\\nReached 95% accuracy so cancelling training!\")\n",
    "            self.model.stop_training = True\n",
    "            \n",
    "callbacks = myCallback()"
   ]
  },
  {
   "cell_type": "code",
   "execution_count": 78,
   "id": "ff2ef5d6",
   "metadata": {},
   "outputs": [
    {
     "name": "stdout",
     "output_type": "stream",
     "text": [
      "Epoch 1/8\n",
      "1071/1071 [==============================] - 250s 233ms/step - loss: 0.9988 - accuracy: 0.5578 - val_loss: 1.0100 - val_accuracy: 0.5414\n",
      "Epoch 2/8\n",
      "1071/1071 [==============================] - 250s 233ms/step - loss: 0.9951 - accuracy: 0.5583 - val_loss: 1.0066 - val_accuracy: 0.5409\n",
      "Epoch 3/8\n",
      "1071/1071 [==============================] - 250s 233ms/step - loss: 0.9916 - accuracy: 0.5583 - val_loss: 1.0013 - val_accuracy: 0.5409\n",
      "Epoch 4/8\n",
      "1071/1071 [==============================] - 249s 233ms/step - loss: 0.9707 - accuracy: 0.5629 - val_loss: 0.9381 - val_accuracy: 0.5686\n",
      "Epoch 5/8\n",
      "1071/1071 [==============================] - 250s 234ms/step - loss: 0.9094 - accuracy: 0.5923 - val_loss: 0.9004 - val_accuracy: 0.5929\n",
      "Epoch 6/8\n",
      "1071/1071 [==============================] - 250s 234ms/step - loss: 0.8673 - accuracy: 0.6165 - val_loss: 0.8661 - val_accuracy: 0.6125\n",
      "Epoch 7/8\n",
      "1071/1071 [==============================] - 249s 233ms/step - loss: 0.8294 - accuracy: 0.6319 - val_loss: 0.8210 - val_accuracy: 0.6350\n",
      "Epoch 8/8\n",
      "1071/1071 [==============================] - 249s 233ms/step - loss: 0.7808 - accuracy: 0.6531 - val_loss: 0.7787 - val_accuracy: 0.6537\n"
     ]
    }
   ],
   "source": [
    "## batch 16, optimizer adam, lr 1e-5\n",
    "EPOCH = 8\n",
    "\n",
    "history_1 = model.fit(\n",
    "            train_dataset,\n",
    "            validation_data = validation_dataset,\n",
    "            epochs = EPOCH,\n",
    "            batch_size = 16)\n",
    "#             callbacks=[callbacks])"
   ]
  },
  {
   "cell_type": "code",
   "execution_count": 79,
   "id": "c277b75d",
   "metadata": {},
   "outputs": [
    {
     "name": "stdout",
     "output_type": "stream",
     "text": [
      "134/134 [==============================] - 6s 41ms/step - loss: 0.7900 - accuracy: 0.6521\n"
     ]
    },
    {
     "data": {
      "text/plain": [
       "{'loss': 0.7900334000587463, 'accuracy': 0.6520522236824036}"
      ]
     },
     "execution_count": 79,
     "metadata": {},
     "output_type": "execute_result"
    }
   ],
   "source": [
    "result = model.evaluate(test_dataset)\n",
    "dict(zip(model.metrics_names, result))"
   ]
  },
  {
   "cell_type": "code",
   "execution_count": 12,
   "id": "ceeaac16",
   "metadata": {},
   "outputs": [
    {
     "name": "stdout",
     "output_type": "stream",
     "text": [
      "Epoch 1/8\n"
     ]
    },
    {
     "name": "stderr",
     "output_type": "stream",
     "text": [
      "2023-06-09 15:54:31.209406: I tensorflow/stream_executor/cuda/cuda_dnn.cc:424] Loaded cuDNN version 8600\n",
      "2023-06-09 15:54:32.497949: I tensorflow/stream_executor/cuda/cuda_blas.cc:1633] TensorFloat-32 will be used for the matrix multiplication. This will only be logged once.\n"
     ]
    },
    {
     "name": "stdout",
     "output_type": "stream",
     "text": [
      "536/536 [==============================] - 165s 300ms/step - loss: 1.0010 - accuracy: 0.5582 - val_loss: 1.0056 - val_accuracy: 0.5433\n",
      "Epoch 2/8\n",
      "536/536 [==============================] - 159s 296ms/step - loss: 0.9966 - accuracy: 0.5583 - val_loss: 1.0051 - val_accuracy: 0.5438\n",
      "Epoch 3/8\n",
      "536/536 [==============================] - 158s 295ms/step - loss: 0.9939 - accuracy: 0.5583 - val_loss: 1.0018 - val_accuracy: 0.5461\n",
      "Epoch 4/8\n",
      "536/536 [==============================] - 159s 296ms/step - loss: 0.9891 - accuracy: 0.5583 - val_loss: 0.9937 - val_accuracy: 0.5414\n",
      "Epoch 5/8\n",
      "536/536 [==============================] - 158s 295ms/step - loss: 0.9614 - accuracy: 0.5655 - val_loss: 0.9596 - val_accuracy: 0.5676\n",
      "Epoch 6/8\n",
      "536/536 [==============================] - 159s 296ms/step - loss: 0.9051 - accuracy: 0.5959 - val_loss: 0.8993 - val_accuracy: 0.6013\n",
      "Epoch 7/8\n",
      "536/536 [==============================] - 158s 295ms/step - loss: 0.8734 - accuracy: 0.6096 - val_loss: 0.9259 - val_accuracy: 0.5934\n",
      "Epoch 8/8\n",
      "536/536 [==============================] - 158s 295ms/step - loss: 0.8462 - accuracy: 0.6259 - val_loss: 0.8451 - val_accuracy: 0.6261\n"
     ]
    }
   ],
   "source": [
    "## batch 32, optimizer adam, lr 1e-5\n",
    "EPOCH = 8\n",
    "\n",
    "history_2 = model.fit(\n",
    "            train_dataset,\n",
    "            validation_data = validation_dataset,\n",
    "            epochs = EPOCH,\n",
    "            batch_size = 32)\n",
    "#             callbacks=[callbacks])"
   ]
  },
  {
   "cell_type": "code",
   "execution_count": 19,
   "id": "6b683746",
   "metadata": {},
   "outputs": [
    {
     "name": "stdout",
     "output_type": "stream",
     "text": [
      "67/67 [==============================] - 4s 64ms/step - loss: 0.8444 - accuracy: 0.6236\n"
     ]
    },
    {
     "data": {
      "text/plain": [
       "{'loss': 0.8443752527236938, 'accuracy': 0.6236007213592529}"
      ]
     },
     "execution_count": 19,
     "metadata": {},
     "output_type": "execute_result"
    }
   ],
   "source": [
    "result = model.evaluate(test_dataset)\n",
    "dict(zip(model.metrics_names, result))"
   ]
  },
  {
   "cell_type": "code",
   "execution_count": 81,
   "id": "33122f6f",
   "metadata": {},
   "outputs": [
    {
     "name": "stdout",
     "output_type": "stream",
     "text": [
      "Epoch 1/8\n",
      "1071/1071 [==============================] - 250s 232ms/step - loss: 0.9995 - accuracy: 0.5581 - val_loss: 1.0102 - val_accuracy: 0.5400\n",
      "Epoch 2/8\n",
      "1071/1071 [==============================] - 248s 231ms/step - loss: 0.9953 - accuracy: 0.5583 - val_loss: 1.0071 - val_accuracy: 0.5433\n",
      "Epoch 3/8\n",
      "1071/1071 [==============================] - 247s 231ms/step - loss: 0.9945 - accuracy: 0.5583 - val_loss: 1.0102 - val_accuracy: 0.5395\n",
      "Epoch 4/8\n",
      "1071/1071 [==============================] - 247s 231ms/step - loss: 0.9940 - accuracy: 0.5583 - val_loss: 1.0080 - val_accuracy: 0.5438\n",
      "Epoch 5/8\n",
      "1071/1071 [==============================] - 247s 231ms/step - loss: 0.9940 - accuracy: 0.5583 - val_loss: 1.0083 - val_accuracy: 0.5433\n",
      "Epoch 6/8\n",
      "1071/1071 [==============================] - 248s 231ms/step - loss: 0.9935 - accuracy: 0.5583 - val_loss: 1.0097 - val_accuracy: 0.5433\n",
      "Epoch 7/8\n",
      "1071/1071 [==============================] - 247s 231ms/step - loss: 0.9934 - accuracy: 0.5583 - val_loss: 1.0082 - val_accuracy: 0.5433\n",
      "Epoch 8/8\n",
      "1071/1071 [==============================] - 247s 231ms/step - loss: 0.9939 - accuracy: 0.5583 - val_loss: 1.0107 - val_accuracy: 0.5405\n"
     ]
    }
   ],
   "source": [
    "## batch 16, optimizer adam, lr 1e-4\n",
    "EPOCH = 8\n",
    "\n",
    "history_4 = model.fit(\n",
    "            train_dataset,\n",
    "            validation_data = validation_dataset,\n",
    "            epochs = EPOCH,\n",
    "            batch_size = 16)\n",
    "#             callbacks=[callbacks])"
   ]
  },
  {
   "cell_type": "code",
   "execution_count": 82,
   "id": "0a2f3059",
   "metadata": {},
   "outputs": [
    {
     "name": "stdout",
     "output_type": "stream",
     "text": [
      "134/134 [==============================] - 6s 44ms/step - loss: 0.9984 - accuracy: 0.5532\n"
     ]
    },
    {
     "data": {
      "text/plain": [
       "{'loss': 0.9984163641929626, 'accuracy': 0.5531716346740723}"
      ]
     },
     "execution_count": 82,
     "metadata": {},
     "output_type": "execute_result"
    }
   ],
   "source": [
    "result = model.evaluate(test_dataset)\n",
    "dict(zip(model.metrics_names, result))"
   ]
  },
  {
   "cell_type": "code",
   "execution_count": 27,
   "id": "9a4297c9",
   "metadata": {},
   "outputs": [
    {
     "name": "stdout",
     "output_type": "stream",
     "text": [
      "Epoch 1/8\n",
      "536/536 [==============================] - 161s 298ms/step - loss: 1.0030 - accuracy: 0.5583 - val_loss: 1.0070 - val_accuracy: 0.5433\n",
      "Epoch 2/8\n",
      "536/536 [==============================] - 159s 297ms/step - loss: 0.9958 - accuracy: 0.5583 - val_loss: 1.0086 - val_accuracy: 0.5423\n",
      "Epoch 3/8\n",
      "536/536 [==============================] - 160s 297ms/step - loss: 0.9950 - accuracy: 0.5583 - val_loss: 1.0087 - val_accuracy: 0.5409\n",
      "Epoch 4/8\n",
      "536/536 [==============================] - 159s 297ms/step - loss: 0.9942 - accuracy: 0.5583 - val_loss: 1.0129 - val_accuracy: 0.5400\n",
      "Epoch 5/8\n",
      "536/536 [==============================] - 159s 297ms/step - loss: 0.9940 - accuracy: 0.5583 - val_loss: 1.0064 - val_accuracy: 0.5470\n",
      "Epoch 6/8\n",
      "536/536 [==============================] - 159s 296ms/step - loss: 0.9939 - accuracy: 0.5583 - val_loss: 1.0159 - val_accuracy: 0.5363\n",
      "Epoch 7/8\n",
      "536/536 [==============================] - 159s 297ms/step - loss: 0.9940 - accuracy: 0.5583 - val_loss: 1.0084 - val_accuracy: 0.5428\n",
      "Epoch 8/8\n",
      "536/536 [==============================] - 159s 297ms/step - loss: 0.9937 - accuracy: 0.5583 - val_loss: 1.0060 - val_accuracy: 0.5461\n"
     ]
    }
   ],
   "source": [
    "## batch 32, optimizer adam, lr 1e-4\n",
    "EPOCH = 8\n",
    "\n",
    "history_5 = model.fit(\n",
    "            train_dataset,\n",
    "            validation_data = validation_dataset,\n",
    "            epochs = EPOCH,\n",
    "            batch_size = 32)\n",
    "#             callbacks=[callbacks])"
   ]
  },
  {
   "cell_type": "code",
   "execution_count": 28,
   "id": "218cf06d",
   "metadata": {},
   "outputs": [
    {
     "name": "stdout",
     "output_type": "stream",
     "text": [
      "67/67 [==============================] - 5s 67ms/step - loss: 1.0003 - accuracy: 0.5518\n"
     ]
    },
    {
     "data": {
      "text/plain": [
       "{'loss': 1.0002580881118774, 'accuracy': 0.55177241563797}"
      ]
     },
     "execution_count": 28,
     "metadata": {},
     "output_type": "execute_result"
    }
   ],
   "source": [
    "result = model.evaluate(test_dataset)\n",
    "dict(zip(model.metrics_names, result))"
   ]
  },
  {
   "cell_type": "code",
   "execution_count": 45,
   "id": "ce910b2a",
   "metadata": {},
   "outputs": [
    {
     "name": "stdout",
     "output_type": "stream",
     "text": [
      "Epoch 1/8\n",
      "1071/1071 [==============================] - 99s 92ms/step - loss: 0.9964 - accuracy: 0.5583 - val_loss: 1.0109 - val_accuracy: 0.5414\n",
      "Epoch 2/8\n",
      "1071/1071 [==============================] - 98s 92ms/step - loss: 0.9947 - accuracy: 0.5583 - val_loss: 1.0111 - val_accuracy: 0.5409\n",
      "Epoch 3/8\n",
      "1071/1071 [==============================] - 98s 92ms/step - loss: 0.9948 - accuracy: 0.5583 - val_loss: 1.0102 - val_accuracy: 0.5409\n",
      "Epoch 4/8\n",
      "1071/1071 [==============================] - 98s 92ms/step - loss: 0.9951 - accuracy: 0.5583 - val_loss: 1.0097 - val_accuracy: 0.5423\n",
      "Epoch 5/8\n",
      "1071/1071 [==============================] - 98s 92ms/step - loss: 0.9947 - accuracy: 0.5583 - val_loss: 1.0082 - val_accuracy: 0.5428\n",
      "Epoch 6/8\n",
      "1071/1071 [==============================] - 98s 92ms/step - loss: 0.9950 - accuracy: 0.5583 - val_loss: 1.0116 - val_accuracy: 0.5400\n",
      "Epoch 7/8\n",
      "1071/1071 [==============================] - 99s 92ms/step - loss: 0.9946 - accuracy: 0.5583 - val_loss: 1.0079 - val_accuracy: 0.5438\n",
      "Epoch 8/8\n",
      "1071/1071 [==============================] - 98s 92ms/step - loss: 0.9936 - accuracy: 0.5583 - val_loss: 1.0114 - val_accuracy: 0.5414\n"
     ]
    }
   ],
   "source": [
    "## batch 16, optimizer adam, lr 1e-3\n",
    "EPOCH = 8\n",
    "\n",
    "history_7 = model.fit(\n",
    "            train_dataset,\n",
    "            validation_data = validation_dataset,\n",
    "            epochs = EPOCH,\n",
    "            batch_size = 16)\n",
    "#             callbacks=[callbacks])"
   ]
  },
  {
   "cell_type": "code",
   "execution_count": 46,
   "id": "bce0962c",
   "metadata": {},
   "outputs": [
    {
     "name": "stdout",
     "output_type": "stream",
     "text": [
      "134/134 [==============================] - 4s 31ms/step - loss: 1.0002 - accuracy: 0.5527\n"
     ]
    },
    {
     "data": {
      "text/plain": [
       "{'loss': 1.000181794166565, 'accuracy': 0.5527052283287048}"
      ]
     },
     "execution_count": 46,
     "metadata": {},
     "output_type": "execute_result"
    }
   ],
   "source": [
    "result = model.evaluate(test_dataset)\n",
    "dict(zip(model.metrics_names, result))"
   ]
  },
  {
   "cell_type": "code",
   "execution_count": 54,
   "id": "e9fa6da4",
   "metadata": {},
   "outputs": [
    {
     "name": "stdout",
     "output_type": "stream",
     "text": [
      "Epoch 1/8\n",
      "536/536 [==============================] - 88s 163ms/step - loss: 1.0086 - accuracy: 0.5562 - val_loss: 1.0076 - val_accuracy: 0.5433\n",
      "Epoch 2/8\n",
      "536/536 [==============================] - 87s 163ms/step - loss: 0.9942 - accuracy: 0.5583 - val_loss: 1.0078 - val_accuracy: 0.5438\n",
      "Epoch 3/8\n",
      "536/536 [==============================] - 87s 163ms/step - loss: 0.9946 - accuracy: 0.5583 - val_loss: 1.0057 - val_accuracy: 0.5461\n",
      "Epoch 4/8\n",
      "536/536 [==============================] - 87s 163ms/step - loss: 0.9942 - accuracy: 0.5583 - val_loss: 1.0106 - val_accuracy: 0.5414\n",
      "Epoch 5/8\n",
      "536/536 [==============================] - 87s 163ms/step - loss: 0.9938 - accuracy: 0.5583 - val_loss: 1.0068 - val_accuracy: 0.5452\n",
      "Epoch 6/8\n",
      "536/536 [==============================] - 87s 163ms/step - loss: 0.9937 - accuracy: 0.5583 - val_loss: 1.0144 - val_accuracy: 0.5391\n",
      "Epoch 7/8\n",
      "536/536 [==============================] - 87s 163ms/step - loss: 0.9941 - accuracy: 0.5583 - val_loss: 1.0082 - val_accuracy: 0.5442\n",
      "Epoch 8/8\n",
      "536/536 [==============================] - 87s 163ms/step - loss: 0.9937 - accuracy: 0.5583 - val_loss: 1.0143 - val_accuracy: 0.5377\n"
     ]
    }
   ],
   "source": [
    "## batch 32, optimizer adam, lr 1e-3\n",
    "EPOCH = 8\n",
    "\n",
    "history_8 = model.fit(\n",
    "            train_dataset,\n",
    "            validation_data = validation_dataset,\n",
    "            epochs = EPOCH,\n",
    "            batch_size = 32)\n",
    "#             callbacks=[callbacks])"
   ]
  },
  {
   "cell_type": "code",
   "execution_count": 55,
   "id": "5f1d0eab",
   "metadata": {},
   "outputs": [
    {
     "name": "stdout",
     "output_type": "stream",
     "text": [
      "67/67 [==============================] - 4s 56ms/step - loss: 1.0015 - accuracy: 0.5504\n"
     ]
    },
    {
     "data": {
      "text/plain": [
       "{'loss': 1.0015296936035156, 'accuracy': 0.5503731369972229}"
      ]
     },
     "execution_count": 55,
     "metadata": {},
     "output_type": "execute_result"
    }
   ],
   "source": [
    "result = model.evaluate(test_dataset)\n",
    "dict(zip(model.metrics_names, result))"
   ]
  },
  {
   "cell_type": "code",
   "execution_count": 84,
   "id": "f0a47284",
   "metadata": {},
   "outputs": [
    {
     "name": "stdout",
     "output_type": "stream",
     "text": [
      "Epoch 1/8\n",
      "1071/1071 [==============================] - 170s 158ms/step - loss: 1.0974 - accuracy: 0.5195 - val_loss: 1.0964 - val_accuracy: 0.5386\n",
      "Epoch 2/8\n",
      "1071/1071 [==============================] - 169s 158ms/step - loss: 1.0950 - accuracy: 0.5583 - val_loss: 1.0943 - val_accuracy: 0.5372\n",
      "Epoch 3/8\n",
      "1071/1071 [==============================] - 169s 158ms/step - loss: 1.0927 - accuracy: 0.5583 - val_loss: 1.0921 - val_accuracy: 0.5428\n",
      "Epoch 4/8\n",
      "1071/1071 [==============================] - 169s 158ms/step - loss: 1.0906 - accuracy: 0.5583 - val_loss: 1.0904 - val_accuracy: 0.5391\n",
      "Epoch 5/8\n",
      "1071/1071 [==============================] - 168s 157ms/step - loss: 1.0886 - accuracy: 0.5583 - val_loss: 1.0885 - val_accuracy: 0.5400\n",
      "Epoch 6/8\n",
      "1071/1071 [==============================] - 168s 157ms/step - loss: 1.0867 - accuracy: 0.5583 - val_loss: 1.0867 - val_accuracy: 0.5405\n",
      "Epoch 7/8\n",
      "1071/1071 [==============================] - 168s 157ms/step - loss: 1.0847 - accuracy: 0.5583 - val_loss: 1.0847 - val_accuracy: 0.5442\n",
      "Epoch 8/8\n",
      "1071/1071 [==============================] - 168s 157ms/step - loss: 1.0829 - accuracy: 0.5583 - val_loss: 1.0833 - val_accuracy: 0.5400\n"
     ]
    }
   ],
   "source": [
    "## batch 16, optimizer sgd, lr 1e-5\n",
    "EPOCH = 8\n",
    "\n",
    "history_10 = model.fit(\n",
    "            train_dataset,\n",
    "            validation_data = validation_dataset,\n",
    "            epochs = EPOCH,\n",
    "            batch_size = 16)\n",
    "#             callbacks=[callbacks])"
   ]
  },
  {
   "cell_type": "code",
   "execution_count": 85,
   "id": "8003c91e",
   "metadata": {},
   "outputs": [
    {
     "name": "stdout",
     "output_type": "stream",
     "text": [
      "134/134 [==============================] - 5s 40ms/step - loss: 1.0824 - accuracy: 0.5513\n"
     ]
    },
    {
     "data": {
      "text/plain": [
       "{'loss': 1.0824148654937744, 'accuracy': 0.5513059496879578}"
      ]
     },
     "execution_count": 85,
     "metadata": {},
     "output_type": "execute_result"
    }
   ],
   "source": [
    "result = model.evaluate(test_dataset)\n",
    "dict(zip(model.metrics_names, result))"
   ]
  },
  {
   "cell_type": "code",
   "execution_count": null,
   "id": "6945dce4",
   "metadata": {},
   "outputs": [],
   "source": [
    "## batch 32, optimizer sgd, lr 1e-5\n",
    "EPOCH = 8\n",
    "\n",
    "history_11 = model.fit(\n",
    "            train_dataset,\n",
    "            validation_data = validation_dataset,\n",
    "            epochs = EPOCH)\n",
    "#             callbacks=[callbacks])"
   ]
  },
  {
   "cell_type": "code",
   "execution_count": 87,
   "id": "4ae275a3",
   "metadata": {},
   "outputs": [
    {
     "name": "stdout",
     "output_type": "stream",
     "text": [
      "Epoch 1/8\n",
      "1071/1071 [==============================] - 93s 86ms/step - loss: 1.0879 - accuracy: 0.5563 - val_loss: 1.0799 - val_accuracy: 0.5409\n",
      "Epoch 2/8\n",
      "1071/1071 [==============================] - 92s 86ms/step - loss: 1.0697 - accuracy: 0.5583 - val_loss: 1.0642 - val_accuracy: 0.5433\n",
      "Epoch 3/8\n",
      "1071/1071 [==============================] - 92s 86ms/step - loss: 1.0540 - accuracy: 0.5583 - val_loss: 1.0513 - val_accuracy: 0.5414\n",
      "Epoch 4/8\n",
      "1071/1071 [==============================] - 92s 86ms/step - loss: 1.0402 - accuracy: 0.5583 - val_loss: 1.0392 - val_accuracy: 0.5433\n",
      "Epoch 5/8\n",
      "1071/1071 [==============================] - 92s 86ms/step - loss: 1.0284 - accuracy: 0.5583 - val_loss: 1.0288 - val_accuracy: 0.5447\n",
      "Epoch 6/8\n",
      "1071/1071 [==============================] - 92s 86ms/step - loss: 1.0181 - accuracy: 0.5583 - val_loss: 1.0228 - val_accuracy: 0.5405\n",
      "Epoch 7/8\n",
      "1071/1071 [==============================] - 92s 86ms/step - loss: 1.0098 - accuracy: 0.5583 - val_loss: 1.0153 - val_accuracy: 0.5428\n",
      "Epoch 8/8\n",
      "1071/1071 [==============================] - 92s 86ms/step - loss: 1.0032 - accuracy: 0.5583 - val_loss: 1.0110 - val_accuracy: 0.5428\n"
     ]
    }
   ],
   "source": [
    "## batch 16, optimizer sgd, lr 1e-4\n",
    "EPOCH = 8\n",
    "\n",
    "history_13 = model.fit(\n",
    "            train_dataset,\n",
    "            validation_data = validation_dataset,\n",
    "            epochs = EPOCH,\n",
    "            batch_size=16)\n",
    "#             callbacks=[callbacks])"
   ]
  },
  {
   "cell_type": "code",
   "execution_count": 88,
   "id": "15eebdae",
   "metadata": {},
   "outputs": [
    {
     "name": "stdout",
     "output_type": "stream",
     "text": [
      "134/134 [==============================] - 4s 30ms/step - loss: 1.0066 - accuracy: 0.5494\n"
     ]
    },
    {
     "data": {
      "text/plain": [
       "{'loss': 1.0065914392471313, 'accuracy': 0.549440324306488}"
      ]
     },
     "execution_count": 88,
     "metadata": {},
     "output_type": "execute_result"
    }
   ],
   "source": [
    "result = model.evaluate(test_dataset)\n",
    "dict(zip(model.metrics_names, result))"
   ]
  },
  {
   "cell_type": "code",
   "execution_count": null,
   "id": "a58e25e7",
   "metadata": {},
   "outputs": [],
   "source": [
    "## batch 32, optimizer sgd, lr 1e-4\n",
    "EPOCH = 8\n",
    "\n",
    "history_14 = model.fit(\n",
    "            train_dataset,\n",
    "            validation_data = validation_dataset,\n",
    "            epochs = EPOCH)\n",
    "#             callbacks=[callbacks])"
   ]
  },
  {
   "cell_type": "code",
   "execution_count": 90,
   "id": "062fa970",
   "metadata": {},
   "outputs": [
    {
     "name": "stdout",
     "output_type": "stream",
     "text": [
      "Epoch 1/8\n",
      "1071/1071 [==============================] - 93s 86ms/step - loss: 1.0305 - accuracy: 0.5578 - val_loss: 1.0077 - val_accuracy: 0.5419\n",
      "Epoch 2/8\n",
      "1071/1071 [==============================] - 92s 86ms/step - loss: 0.9930 - accuracy: 0.5583 - val_loss: 1.0102 - val_accuracy: 0.5395\n",
      "Epoch 3/8\n",
      "1071/1071 [==============================] - 92s 86ms/step - loss: 0.9927 - accuracy: 0.5583 - val_loss: 1.0075 - val_accuracy: 0.5423\n",
      "Epoch 4/8\n",
      "1071/1071 [==============================] - 92s 86ms/step - loss: 0.9928 - accuracy: 0.5583 - val_loss: 1.0112 - val_accuracy: 0.5386\n",
      "Epoch 5/8\n",
      "1071/1071 [==============================] - 92s 86ms/step - loss: 0.9929 - accuracy: 0.5583 - val_loss: 1.0062 - val_accuracy: 0.5438\n",
      "Epoch 6/8\n",
      "1071/1071 [==============================] - 92s 86ms/step - loss: 0.9926 - accuracy: 0.5583 - val_loss: 1.0080 - val_accuracy: 0.5419\n",
      "Epoch 7/8\n",
      "1071/1071 [==============================] - 92s 86ms/step - loss: 0.9926 - accuracy: 0.5583 - val_loss: 1.0119 - val_accuracy: 0.5377\n",
      "Epoch 8/8\n",
      "1071/1071 [==============================] - 92s 86ms/step - loss: 0.9926 - accuracy: 0.5583 - val_loss: 1.0075 - val_accuracy: 0.5423\n"
     ]
    }
   ],
   "source": [
    "## batch 16, optimizer sgd, lr 1e-3\n",
    "EPOCH = 8\n",
    "\n",
    "history_16 = model.fit(\n",
    "            train_dataset,\n",
    "            validation_data = validation_dataset,\n",
    "            epochs = EPOCH)\n",
    "#             callbacks=[callbacks])"
   ]
  },
  {
   "cell_type": "code",
   "execution_count": 91,
   "id": "eecf3a3a",
   "metadata": {},
   "outputs": [
    {
     "name": "stdout",
     "output_type": "stream",
     "text": [
      "134/134 [==============================] - 4s 30ms/step - loss: 0.9980 - accuracy: 0.5527\n"
     ]
    },
    {
     "data": {
      "text/plain": [
       "{'loss': 0.9979994893074036, 'accuracy': 0.5527052283287048}"
      ]
     },
     "execution_count": 91,
     "metadata": {},
     "output_type": "execute_result"
    }
   ],
   "source": [
    "result = model.evaluate(test_dataset)\n",
    "dict(zip(model.metrics_names, result))"
   ]
  },
  {
   "cell_type": "code",
   "execution_count": null,
   "id": "5f183bfe",
   "metadata": {},
   "outputs": [],
   "source": [
    "## batch 32, optimizer sgd, lr 1e-3\n",
    "EPOCH = 8\n",
    "\n",
    "history_17 = model.fit(\n",
    "            train_dataset,\n",
    "            validation_data = validation_dataset,\n",
    "            epochs = EPOCH)\n",
    "#             callbacks=[callbacks])"
   ]
  },
  {
   "cell_type": "markdown",
   "id": "d81b9678",
   "metadata": {},
   "source": [
    "### Training evaluation"
   ]
  },
  {
   "cell_type": "code",
   "execution_count": null,
   "id": "ff9f64d3",
   "metadata": {},
   "outputs": [],
   "source": [
    "plt.figure(figsize=(8, 8))\n",
    "\n",
    "# training and validation accuracy\n",
    "acc = history_1.history['accuracy']\n",
    "val_acc = history_1.history['val_accuracy']\n",
    "\n",
    "plt.subplot(2, 1, 1)\n",
    "plt.plot(acc, label='Training Accuracy')\n",
    "plt.plot(val_acc, label='Validation Accuracy')\n",
    "plt.legend(loc='lower right')\n",
    "plt.ylabel('Accuracy')\n",
    "plt.xlabel('Epoch')\n",
    "plt.ylim([min(plt.ylim()),1])\n",
    "plt.title('Accuracy', size=15, fontweight='bold')\n",
    "\n",
    "# training and validation loss\n",
    "loss = history.history['loss']\n",
    "val_loss = history.history['val_loss']\n",
    "\n",
    "plt.subplot(2, 1, 2)\n",
    "plt.plot(loss, label='Training Loss')\n",
    "plt.plot(val_loss, label='Validation Loss')\n",
    "plt.legend(loc='upper right')\n",
    "plt.ylabel('Cross Entropy')\n",
    "plt.xlabel('Epoch')\n",
    "plt.ylim([0,1.0])\n",
    "plt.title('Loss', size=15, fontweight='bold')\n",
    "\n",
    "\n",
    "plt.subplots_adjust(hspace=0.3)\n",
    "plt.show()"
   ]
  }
 ],
 "metadata": {
  "kernelspec": {
   "display_name": "Python 3 (ipykernel)",
   "language": "python",
   "name": "python3"
  },
  "language_info": {
   "codemirror_mode": {
    "name": "ipython",
    "version": 3
   },
   "file_extension": ".py",
   "mimetype": "text/x-python",
   "name": "python",
   "nbconvert_exporter": "python",
   "pygments_lexer": "ipython3",
   "version": "3.8.10"
  }
 },
 "nbformat": 4,
 "nbformat_minor": 5
}
