{
 "cells": [
  {
   "cell_type": "code",
   "execution_count": 1,
   "id": "41866c8d",
   "metadata": {},
   "outputs": [
    {
     "name": "stderr",
     "output_type": "stream",
     "text": [
      "2023-06-05 22:49:33.955207: I tensorflow/core/platform/cpu_feature_guard.cc:194] This TensorFlow binary is optimized with oneAPI Deep Neural Network Library (oneDNN) to use the following CPU instructions in performance-critical operations:  SSE3 SSE4.1 SSE4.2 AVX\n",
      "To enable them in other operations, rebuild TensorFlow with the appropriate compiler flags.\n"
     ]
    }
   ],
   "source": [
    "import tensorflow as tf\n",
    "import matplotlib.pyplot as plt\n",
    "import numpy as np"
   ]
  },
  {
   "cell_type": "markdown",
   "id": "c7ee6541",
   "metadata": {},
   "source": [
    "## Dataset preparation"
   ]
  },
  {
   "cell_type": "markdown",
   "id": "59aca9a6",
   "metadata": {},
   "source": [
    "### Set parameters"
   ]
  },
  {
   "cell_type": "code",
   "execution_count": 2,
   "id": "627c4475",
   "metadata": {},
   "outputs": [],
   "source": [
    "batch_size = 8\n",
    "img_height = 184\n",
    "img_width = 216\n",
    "img_size = (img_height, img_width)\n",
    "img_shape = img_size + (1,)\n",
    "ds_path = \"/drive0-storage/Gracia/dataset\""
   ]
  },
  {
   "cell_type": "markdown",
   "id": "55348c86",
   "metadata": {},
   "source": [
    "### Load dataset"
   ]
  },
  {
   "cell_type": "code",
   "execution_count": 3,
   "id": "41a0402c",
   "metadata": {},
   "outputs": [
    {
     "name": "stderr",
     "output_type": "stream",
     "text": [
      "2023-06-05 22:49:35.986946: I tensorflow/core/platform/cpu_feature_guard.cc:194] This TensorFlow binary is optimized with oneAPI Deep Neural Network Library (oneDNN) to use the following CPU instructions in performance-critical operations:  SSE3 SSE4.1 SSE4.2 AVX\n",
      "To enable them in other operations, rebuild TensorFlow with the appropriate compiler flags.\n",
      "2023-06-05 22:49:36.750326: I tensorflow/core/common_runtime/gpu/gpu_device.cc:1637] Created device /job:localhost/replica:0/task:0/device:GPU:0 with 7910 MB memory:  -> device: 0, name: A100-SXM4-40GB MIG 2g.10gb, pci bus id: 0000:90:00.0, compute capability: 8.0\n"
     ]
    },
    {
     "name": "stdout",
     "output_type": "stream",
     "text": [
      "Found 21413 files belonging to 3 classes.\n",
      "Using 17131 files for training.\n",
      "Found 21413 files belonging to 3 classes.\n",
      "Using 4282 files for validation.\n"
     ]
    }
   ],
   "source": [
    "from tensorflow.keras.utils import image_dataset_from_directory\n",
    "\n",
    "with tf.device(\"CPU\"):\n",
    "    train_ds = image_dataset_from_directory(ds_path,\n",
    "                                            validation_split = 0.2,\n",
    "                                            subset = \"training\",\n",
    "                                            seed = 123,\n",
    "                                            image_size = img_size,\n",
    "                                            batch_size = batch_size)\n",
    "\n",
    "    val_ds = image_dataset_from_directory(ds_path,\n",
    "                                          validation_split = 0.2,\n",
    "                                          subset = \"validation\",\n",
    "                                          seed = 123,\n",
    "                                          image_size = img_size,\n",
    "                                          batch_size = batch_size)"
   ]
  },
  {
   "cell_type": "code",
   "execution_count": 4,
   "id": "3d4b207a",
   "metadata": {},
   "outputs": [
    {
     "name": "stdout",
     "output_type": "stream",
     "text": [
      "['bd', 'hc', 'sz']\n"
     ]
    }
   ],
   "source": [
    "class_names = train_ds.class_names\n",
    "num_classes = len(class_names)\n",
    "\n",
    "print(class_names)"
   ]
  },
  {
   "cell_type": "markdown",
   "id": "395db0e7",
   "metadata": {},
   "source": [
    "### Train, validation, test set"
   ]
  },
  {
   "cell_type": "code",
   "execution_count": 5,
   "id": "a1d4bd08",
   "metadata": {},
   "outputs": [],
   "source": [
    "def preprocess(image, label):\n",
    "    image = tf.image.rgb_to_grayscale(image)\n",
    "    return image, label\n",
    "\n",
    "with tf.device(\"CPU\"):\n",
    "    val_batches = tf.data.experimental.cardinality(val_ds)\n",
    "    test_dataset = val_ds.take(val_batches // 2)\n",
    "    validation_dataset = val_ds.skip(val_batches // 2)\n",
    "    \n",
    "    # Buffered prefetching\n",
    "    AUTOTUNE = tf.data.AUTOTUNE\n",
    "    BUFFER_SIZE = 1000\n",
    "\n",
    "    train_dataset = (train_ds\n",
    "                    .shuffle(buffer_size = BUFFER_SIZE)\n",
    "                    .map(preprocess, num_parallel_calls=AUTOTUNE)\n",
    "                    .prefetch(AUTOTUNE)\n",
    "                    )\n",
    "\n",
    "    validation_dataset = (validation_dataset\n",
    "                        .shuffle(buffer_size = BUFFER_SIZE)\n",
    "                        .map(preprocess, num_parallel_calls=AUTOTUNE)\n",
    "                        .prefetch(AUTOTUNE)\n",
    "                         )\n",
    "                \n",
    "    test_dataset = (test_dataset\n",
    "                    .shuffle(buffer_size = BUFFER_SIZE)\n",
    "                    .map(preprocess, num_parallel_calls=AUTOTUNE)\n",
    "                    .prefetch(AUTOTUNE)\n",
    "                   )"
   ]
  },
  {
   "cell_type": "code",
   "execution_count": 6,
   "id": "c458abef",
   "metadata": {},
   "outputs": [
    {
     "name": "stdout",
     "output_type": "stream",
     "text": [
      "train batches: 2142\n",
      "validation batches: 268\n",
      "test batches: 268\n"
     ]
    }
   ],
   "source": [
    "print(f\"train batches: {len(train_dataset)}\")\n",
    "print(f\"validation batches: {len(validation_dataset)}\")\n",
    "print(f\"test batches: {len(test_dataset)}\")"
   ]
  },
  {
   "cell_type": "markdown",
   "id": "03cfc6c0",
   "metadata": {},
   "source": [
    "### Transfer Learning InceptionV3"
   ]
  },
  {
   "cell_type": "code",
   "execution_count": 7,
   "id": "7d03cb13",
   "metadata": {},
   "outputs": [
    {
     "data": {
      "text/plain": [
       "<keras.engine.input_layer.InputLayer at 0x7f3ae0491d00>"
      ]
     },
     "execution_count": 7,
     "metadata": {},
     "output_type": "execute_result"
    }
   ],
   "source": [
    "from tensorflow.keras.applications.inception_v3 import InceptionV3, preprocess_input\n",
    "\n",
    "with tf.device(\"CPU\"):\n",
    "    pre_trained_model = InceptionV3(input_shape = (None, None, 3),\n",
    "                            include_top = False,\n",
    "                            weights = 'imagenet')\n",
    "\n",
    "    pre_trained_model.layers.pop(0)\n",
    "\n",
    "# pre_trained_model.trainable = False"
   ]
  },
  {
   "cell_type": "markdown",
   "id": "3f1f3028",
   "metadata": {},
   "source": [
    "### Fine tuning layers"
   ]
  },
  {
   "cell_type": "code",
   "execution_count": 8,
   "id": "17a5e564",
   "metadata": {},
   "outputs": [
    {
     "name": "stdout",
     "output_type": "stream",
     "text": [
      "Number of layers:  311\n"
     ]
    }
   ],
   "source": [
    "print(\"Number of layers: \", len(pre_trained_model.layers))"
   ]
  },
  {
   "cell_type": "code",
   "execution_count": 9,
   "id": "b385eca9",
   "metadata": {},
   "outputs": [],
   "source": [
    "with tf.device(\"CPU\"):\n",
    "    pre_trained_model.trainable = True\n",
    "\n",
    "    # Fine-tune from this layer onwards\n",
    "    START_TRAIN = 150\n",
    "\n",
    "    # Freeze all the layers before \n",
    "    for layer in pre_trained_model.layers[:START_TRAIN]:\n",
    "        layer.trainable = False"
   ]
  },
  {
   "cell_type": "markdown",
   "id": "90a60353",
   "metadata": {},
   "source": [
    "### Preprocess input and add classification layer"
   ]
  },
  {
   "cell_type": "code",
   "execution_count": 10,
   "id": "8d23805d",
   "metadata": {},
   "outputs": [],
   "source": [
    " with tf.device(\"CPU\"):\n",
    "    global_average = tf.keras.layers.GlobalAveragePooling2D()\n",
    "    prediction_layer = tf.keras.layers.Dense(num_classes, activation='softmax')\n",
    "\n",
    "    inputs = tf.keras.Input(shape = img_shape)\n",
    "    rgb_tensor = tf.keras.layers.Concatenate()([inputs, inputs, inputs])\n",
    "    x = preprocess_input(rgb_tensor)\n",
    "    x = pre_trained_model(x, training=False)\n",
    "    x = global_average(x)\n",
    "    x = tf.keras.layers.Dropout(0.3)(x)\n",
    "    outputs = prediction_layer(x)\n",
    "    model = tf.keras.Model(inputs,outputs)"
   ]
  },
  {
   "cell_type": "markdown",
   "id": "e6878177",
   "metadata": {},
   "source": [
    "### Compile model"
   ]
  },
  {
   "cell_type": "code",
   "execution_count": 11,
   "id": "5501cc36",
   "metadata": {},
   "outputs": [
    {
     "name": "stdout",
     "output_type": "stream",
     "text": [
      "Model: \"model\"\n",
      "__________________________________________________________________________________________________\n",
      " Layer (type)                   Output Shape         Param #     Connected to                     \n",
      "==================================================================================================\n",
      " input_2 (InputLayer)           [(None, 184, 216, 1  0           []                               \n",
      "                                )]                                                                \n",
      "                                                                                                  \n",
      " concatenate_2 (Concatenate)    (None, 184, 216, 3)  0           ['input_2[0][0]',                \n",
      "                                                                  'input_2[0][0]',                \n",
      "                                                                  'input_2[0][0]']                \n",
      "                                                                                                  \n",
      " tf.math.truediv (TFOpLambda)   (None, 184, 216, 3)  0           ['concatenate_2[0][0]']          \n",
      "                                                                                                  \n",
      " tf.math.subtract (TFOpLambda)  (None, 184, 216, 3)  0           ['tf.math.truediv[0][0]']        \n",
      "                                                                                                  \n",
      " inception_v3 (Functional)      (None, None, None,   21802784    ['tf.math.subtract[0][0]']       \n",
      "                                2048)                                                             \n",
      "                                                                                                  \n",
      " global_average_pooling2d (Glob  (None, 2048)        0           ['inception_v3[0][0]']           \n",
      " alAveragePooling2D)                                                                              \n",
      "                                                                                                  \n",
      " dropout (Dropout)              (None, 2048)         0           ['global_average_pooling2d[0][0]'\n",
      "                                                                 ]                                \n",
      "                                                                                                  \n",
      " dense (Dense)                  (None, 3)            6147        ['dropout[0][0]']                \n",
      "                                                                                                  \n",
      "==================================================================================================\n",
      "Total params: 21,808,931\n",
      "Trainable params: 17,373,123\n",
      "Non-trainable params: 4,435,808\n",
      "__________________________________________________________________________________________________\n"
     ]
    }
   ],
   "source": [
    "# Compile model\n",
    "with tf.device(\"CPU\"):\n",
    "    LR = 0.0001\n",
    "    model.compile(optimizer=tf.keras.optimizers.Adam(learning_rate = LR),\n",
    "                  loss=tf.keras.losses.SparseCategoricalCrossentropy(from_logits = False),\n",
    "                  metrics=['accuracy'])\n",
    "\n",
    "# Display model architecture\n",
    "model.summary()"
   ]
  },
  {
   "cell_type": "markdown",
   "id": "5804beb9",
   "metadata": {},
   "source": [
    "## Model training"
   ]
  },
  {
   "cell_type": "code",
   "execution_count": 12,
   "id": "501e6c15",
   "metadata": {},
   "outputs": [],
   "source": [
    "# Callback function\n",
    "class myCallback(tf.keras.callbacks.Callback):\n",
    "    def on_epoch_end(self, epoch, logs={}):\n",
    "        if(logs.get('accuracy')>0.90):\n",
    "            print(\"\\nReached 90% accuracy so cancelling training!\")\n",
    "            self.model.stop_training = True\n",
    "            \n",
    "callbacks = myCallback()"
   ]
  },
  {
   "cell_type": "markdown",
   "id": "26a06c7b",
   "metadata": {},
   "source": [
    "- InceptionV3"
   ]
  },
  {
   "cell_type": "code",
   "execution_count": 13,
   "id": "b829edc9",
   "metadata": {},
   "outputs": [
    {
     "name": "stdout",
     "output_type": "stream",
     "text": [
      "Epoch 1/15\n"
     ]
    },
    {
     "name": "stderr",
     "output_type": "stream",
     "text": [
      "2023-06-05 22:49:46.537094: I tensorflow/stream_executor/cuda/cuda_dnn.cc:424] Loaded cuDNN version 8600\n",
      "2023-06-05 22:49:47.593571: I tensorflow/stream_executor/cuda/cuda_blas.cc:1633] TensorFloat-32 will be used for the matrix multiplication. This will only be logged once.\n"
     ]
    },
    {
     "name": "stdout",
     "output_type": "stream",
     "text": [
      "2142/2142 [==============================] - 63s 26ms/step - loss: 0.9855 - accuracy: 0.5593 - val_loss: 0.9751 - val_accuracy: 0.5496\n",
      "Epoch 2/15\n",
      "2142/2142 [==============================] - 56s 26ms/step - loss: 0.8900 - accuracy: 0.5967 - val_loss: 0.8502 - val_accuracy: 0.6132\n",
      "Epoch 3/15\n",
      "2142/2142 [==============================] - 56s 25ms/step - loss: 0.7639 - accuracy: 0.6652 - val_loss: 0.7122 - val_accuracy: 0.6843\n",
      "Epoch 4/15\n",
      "2142/2142 [==============================] - 56s 25ms/step - loss: 0.5422 - accuracy: 0.7742 - val_loss: 0.5477 - val_accuracy: 0.7783\n",
      "Epoch 5/15\n",
      "2142/2142 [==============================] - 56s 25ms/step - loss: 0.3137 - accuracy: 0.8790 - val_loss: 0.3653 - val_accuracy: 0.8639\n",
      "Epoch 6/15\n",
      "2140/2142 [============================>.] - ETA: 0s - loss: 0.1755 - accuracy: 0.9344\n",
      "Reached 90% accuracy so cancelling training!\n",
      "2142/2142 [==============================] - 55s 25ms/step - loss: 0.1753 - accuracy: 0.9345 - val_loss: 0.2764 - val_accuracy: 0.8868\n"
     ]
    }
   ],
   "source": [
    "EPOCH = 15\n",
    "\n",
    "history_inception = model.fit(\n",
    "            train_dataset,\n",
    "            validation_data = validation_dataset,\n",
    "            epochs = EPOCH,\n",
    "            callbacks=[callbacks])"
   ]
  },
  {
   "cell_type": "markdown",
   "id": "8ddfcbfa",
   "metadata": {},
   "source": [
    "- InceptionV3"
   ]
  },
  {
   "cell_type": "code",
   "execution_count": 14,
   "id": "72c6f70e",
   "metadata": {},
   "outputs": [
    {
     "data": {
      "image/png": "[encoded data removed]",
      "text/plain": [
       "<Figure size 1200x500 with 2 Axes>"
      ]
     },
     "metadata": {},
     "output_type": "display_data"
    }
   ],
   "source": [
    "# training and validation accuracy\n",
    "fig, ax = plt.subplots(nrows=1, ncols=2, figsize=(12,5), constrained_layout=True)\n",
    "\n",
    "acc = history_inception.history['accuracy']\n",
    "val_acc = history_inception.history['val_accuracy']\n",
    "\n",
    "ax[0].plot(acc, label='Training Accuracy')\n",
    "ax[0].plot(val_acc, label='Validation Accuracy')\n",
    "ax[0].legend(loc='lower right')\n",
    "ax[0].set(xlabel='Epoch', ylabel='Accuracy', ylim=[min(plt.ylim()),1])\n",
    "ax[0].set_title('Accuracy', size=14)\n",
    "\n",
    "# training and validation loss\n",
    "loss = history_inception.history['loss']\n",
    "val_loss = history_inception.history['val_loss']\n",
    "\n",
    "ax[1].plot(loss, label='Training Loss')\n",
    "ax[1].plot(val_loss, label='Validation Loss')\n",
    "ax[1].legend(loc='upper right')\n",
    "ax[1].set(xlabel='Epoch', ylabel='Cross Entropy', ylim=[0,max(plt.ylim())])\n",
    "ax[1].set_title('Loss', size=14)\n",
    "\n",
    "fig.suptitle(\"InceptionV3\", fontweight=\"bold\", size=15)\n",
    "plt.show()"
   ]
  },
  {
   "cell_type": "code",
   "execution_count": 15,
   "id": "a0f96d44",
   "metadata": {},
   "outputs": [],
   "source": [
    "model.save('transfer_learning_model.h5')"
   ]
  }
 ],
 "metadata": {
  "kernelspec": {
   "display_name": "Python 3 (ipykernel)",
   "language": "python",
   "name": "python3"
  },
  "language_info": {
   "codemirror_mode": {
    "name": "ipython",
    "version": 3
   },
   "file_extension": ".py",
   "mimetype": "text/x-python",
   "name": "python",
   "nbconvert_exporter": "python",
   "pygments_lexer": "ipython3",
   "version": "3.8.10"
  }
 },
 "nbformat": 4,
 "nbformat_minor": 5
}
