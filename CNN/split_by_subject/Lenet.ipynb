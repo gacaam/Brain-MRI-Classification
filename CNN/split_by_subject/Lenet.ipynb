{
 "cells": [
  {
   "cell_type": "code",
   "execution_count": 1,
   "id": "5ce28300",
   "metadata": {},
   "outputs": [
    {
     "name": "stderr",
     "output_type": "stream",
     "text": [
      "2023-06-26 07:47:49.992586: I tensorflow/core/platform/cpu_feature_guard.cc:194] This TensorFlow binary is optimized with oneAPI Deep Neural Network Library (oneDNN) to use the following CPU instructions in performance-critical operations:  SSE3 SSE4.1 SSE4.2 AVX\n",
      "To enable them in other operations, rebuild TensorFlow with the appropriate compiler flags.\n"
     ]
    }
   ],
   "source": [
    "import tensorflow as tf\n",
    "from tensorflow.keras.models import Sequential\n",
    "from tensorflow.keras.layers import Conv2D, MaxPooling2D, Flatten, Dense, Dropout\n",
    "import matplotlib.pyplot as plt\n",
    "import numpy as np\n",
    "import os\n",
    "# import pandas as pd"
   ]
  },
  {
   "cell_type": "markdown",
   "id": "404e8224",
   "metadata": {},
   "source": [
    "## Dataset preparation"
   ]
  },
  {
   "cell_type": "markdown",
   "id": "29dd3c33",
   "metadata": {},
   "source": [
    "### Set parameters"
   ]
  },
  {
   "cell_type": "code",
   "execution_count": 2,
   "id": "eb13bf3f",
   "metadata": {},
   "outputs": [],
   "source": [
    "batch_size = 32\n",
    "img_height = 184\n",
    "img_width = 216\n",
    "img_size = (img_height, img_width)\n",
    "img_shape = img_size + (3,)"
   ]
  },
  {
   "cell_type": "markdown",
   "id": "7c28ab8d",
   "metadata": {},
   "source": [
    "### Load dataset"
   ]
  },
  {
   "cell_type": "code",
   "execution_count": 3,
   "id": "98218084",
   "metadata": {},
   "outputs": [
    {
     "name": "stderr",
     "output_type": "stream",
     "text": [
      "2023-06-26 07:47:52.009968: I tensorflow/core/platform/cpu_feature_guard.cc:194] This TensorFlow binary is optimized with oneAPI Deep Neural Network Library (oneDNN) to use the following CPU instructions in performance-critical operations:  SSE3 SSE4.1 SSE4.2 AVX\n",
      "To enable them in other operations, rebuild TensorFlow with the appropriate compiler flags.\n",
      "2023-06-26 07:47:52.747790: I tensorflow/core/common_runtime/gpu/gpu_device.cc:1637] Created device /job:localhost/replica:0/task:0/device:GPU:0 with 7910 MB memory:  -> device: 0, name: A100-SXM4-40GB MIG 2g.10gb, pci bus id: 0000:90:00.0, compute capability: 8.0\n"
     ]
    },
    {
     "name": "stdout",
     "output_type": "stream",
     "text": [
      "Found 11289 files belonging to 3 classes.\n",
      "Found 2823 files belonging to 3 classes.\n"
     ]
    }
   ],
   "source": [
    "from tensorflow.keras.utils import image_dataset_from_directory\n",
    "\n",
    "train_path = \"./dataset_2/training\"\n",
    "val_path = \"./dataset_2/validation\"\n",
    "\n",
    "with tf.device(\"CPU\"):\n",
    "    train_ds = image_dataset_from_directory(train_path,\n",
    "                                        seed = 123,\n",
    "                                        image_size = img_size,\n",
    "                                        batch_size = batch_size)\n",
    "    \n",
    "    val_ds = image_dataset_from_directory(val_path,\n",
    "                                      seed = 456,\n",
    "                                      image_size = img_size,\n",
    "                                      batch_size = batch_size)"
   ]
  },
  {
   "cell_type": "code",
   "execution_count": 5,
   "id": "01554959",
   "metadata": {},
   "outputs": [
    {
     "name": "stdout",
     "output_type": "stream",
     "text": [
      "['bipolar_disorder', 'healthy_controls', 'schizophrenia']\n"
     ]
    }
   ],
   "source": [
    "class_names = train_ds.class_names\n",
    "num_classes = len(class_names)\n",
    "\n",
    "print(class_names)"
   ]
  },
  {
   "cell_type": "markdown",
   "id": "563f6bdb",
   "metadata": {},
   "source": [
    "### Test set"
   ]
  },
  {
   "cell_type": "code",
   "execution_count": 8,
   "id": "5daeeae6",
   "metadata": {},
   "outputs": [],
   "source": [
    "with tf.device(\"CPU\"):\n",
    "    # Buffered prefetching\n",
    "    AUTOTUNE = tf.data.AUTOTUNE\n",
    "    train_dataset = train_ds.prefetch(buffer_size = AUTOTUNE)\n",
    "    validation_dataset = val_ds.prefetch(buffer_size = AUTOTUNE)"
   ]
  },
  {
   "cell_type": "code",
   "execution_count": null,
   "id": "1081fffa",
   "metadata": {},
   "outputs": [],
   "source": [
    "print(len(validation_dataset))\n",
    "print(len(test_dataset))"
   ]
  },
  {
   "cell_type": "markdown",
   "id": "8a9e58c7",
   "metadata": {},
   "source": [
    "## Model building"
   ]
  },
  {
   "cell_type": "code",
   "execution_count": 40,
   "id": "0403de15",
   "metadata": {},
   "outputs": [],
   "source": [
    "def lenet(dropout_num):\n",
    "    model = Sequential([\n",
    "    Conv2D(2, (3, 3), activation='relu', input_shape=img_shape),\n",
    "    Dropout(dropout_num),\n",
    "    MaxPooling2D((2, 2)),\n",
    "        \n",
    "    Conv2D(4, (3, 3), activation='relu'),\n",
    "    Dropout(dropout_num),\n",
    "    MaxPooling2D((2, 2)),\n",
    "    MaxPooling2D((2, 2)),   \n",
    "        \n",
    "    Flatten(),\n",
    "    Dense(4, activation='relu'),\n",
    "    Dense(4, activation='relu'),\n",
    "#     Dropout(dropout_num),\n",
    "    Dense(3, activation='softmax')\n",
    "])\n",
    "    return model"
   ]
  },
  {
   "cell_type": "code",
   "execution_count": 41,
   "id": "b6ded06e",
   "metadata": {},
   "outputs": [],
   "source": [
    "with tf.device(\"GPU\"):\n",
    "    model = lenet(0.2)\n",
    "\n",
    "    # compile model\n",
    "    model.compile(optimizer=tf.keras.optimizers.Adam(learning_rate = 1e-3),\n",
    "                  loss=tf.keras.losses.SparseCategoricalCrossentropy(from_logits = False),\n",
    "                  metrics=['accuracy'])"
   ]
  },
  {
   "cell_type": "code",
   "execution_count": 42,
   "id": "4ce437a7",
   "metadata": {},
   "outputs": [
    {
     "name": "stdout",
     "output_type": "stream",
     "text": [
      "Model: \"sequential_8\"\n",
      "_________________________________________________________________\n",
      " Layer (type)                Output Shape              Param #   \n",
      "=================================================================\n",
      " conv2d_20 (Conv2D)          (None, 182, 214, 2)       56        \n",
      "                                                                 \n",
      " dropout_24 (Dropout)        (None, 182, 214, 2)       0         \n",
      "                                                                 \n",
      " max_pooling2d_22 (MaxPoolin  (None, 91, 107, 2)       0         \n",
      " g2D)                                                            \n",
      "                                                                 \n",
      " conv2d_21 (Conv2D)          (None, 89, 105, 4)        76        \n",
      "                                                                 \n",
      " dropout_25 (Dropout)        (None, 89, 105, 4)        0         \n",
      "                                                                 \n",
      " max_pooling2d_23 (MaxPoolin  (None, 44, 52, 4)        0         \n",
      " g2D)                                                            \n",
      "                                                                 \n",
      " max_pooling2d_24 (MaxPoolin  (None, 22, 26, 4)        0         \n",
      " g2D)                                                            \n",
      "                                                                 \n",
      " flatten_8 (Flatten)         (None, 2288)              0         \n",
      "                                                                 \n",
      " dense_20 (Dense)            (None, 4)                 9156      \n",
      "                                                                 \n",
      " dense_21 (Dense)            (None, 4)                 20        \n",
      "                                                                 \n",
      " dense_22 (Dense)            (None, 3)                 15        \n",
      "                                                                 \n",
      "=================================================================\n",
      "Total params: 9,323\n",
      "Trainable params: 9,323\n",
      "Non-trainable params: 0\n",
      "_________________________________________________________________\n"
     ]
    }
   ],
   "source": [
    "model.summary()"
   ]
  },
  {
   "cell_type": "markdown",
   "id": "2cc4d29b",
   "metadata": {},
   "source": [
    "## Model training"
   ]
  },
  {
   "cell_type": "code",
   "execution_count": 23,
   "id": "541048e6",
   "metadata": {},
   "outputs": [],
   "source": [
    "# Callback function\n",
    "class myCallback(tf.keras.callbacks.Callback):\n",
    "    def on_epoch_end(self, epoch, logs={}):\n",
    "        if(logs.get('accuracy')>0.99):\n",
    "            print(\"\\nReached 99% accuracy, cancelling training\")\n",
    "            self.model.stop_training = True\n",
    "            \n",
    "callbacks = myCallback()\n",
    "save_locally = tf.saved_model.SaveOptions(experimental_io_device='/job:localhost')\n",
    "checkpoints_cb = tf.keras.callbacks.ModelCheckpoint('./cnn1_checkpoints', options=save_locally)\n",
    "early_stopping = tf.keras.callbacks.EarlyStopping(monitor='val_loss', patience=4)"
   ]
  },
  {
   "cell_type": "code",
   "execution_count": 43,
   "id": "e0a51895",
   "metadata": {},
   "outputs": [
    {
     "name": "stdout",
     "output_type": "stream",
     "text": [
      "Epoch 1/100\n",
      "353/353 [==============================] - 4s 10ms/step - loss: 1.0980 - accuracy: 0.3518 - val_loss: 1.1042 - val_accuracy: 0.3110\n",
      "Epoch 2/100\n",
      "353/353 [==============================] - 4s 10ms/step - loss: 1.0648 - accuracy: 0.4232 - val_loss: 1.1157 - val_accuracy: 0.3510\n",
      "Epoch 3/100\n",
      "353/353 [==============================] - 4s 10ms/step - loss: 1.0122 - accuracy: 0.4853 - val_loss: 1.1345 - val_accuracy: 0.3656\n",
      "Epoch 4/100\n",
      "353/353 [==============================] - 4s 10ms/step - loss: 0.9708 - accuracy: 0.5254 - val_loss: 1.1593 - val_accuracy: 0.3567\n",
      "Epoch 5/100\n",
      "353/353 [==============================] - 4s 10ms/step - loss: 0.9288 - accuracy: 0.5625 - val_loss: 1.1701 - val_accuracy: 0.3936\n",
      "Epoch 6/100\n",
      "353/353 [==============================] - 4s 10ms/step - loss: 0.8986 - accuracy: 0.5857 - val_loss: 1.1982 - val_accuracy: 0.3826\n",
      "Epoch 7/100\n",
      "353/353 [==============================] - 4s 10ms/step - loss: 0.8766 - accuracy: 0.6044 - val_loss: 1.2186 - val_accuracy: 0.3826\n",
      "Epoch 8/100\n",
      "353/353 [==============================] - 4s 10ms/step - loss: 0.8497 - accuracy: 0.6219 - val_loss: 1.2253 - val_accuracy: 0.3872\n",
      "Epoch 9/100\n",
      "353/353 [==============================] - 4s 10ms/step - loss: 0.8327 - accuracy: 0.6301 - val_loss: 1.2515 - val_accuracy: 0.3851\n",
      "Epoch 10/100\n",
      "353/353 [==============================] - 4s 10ms/step - loss: 0.8186 - accuracy: 0.6412 - val_loss: 1.2631 - val_accuracy: 0.3875\n",
      "Epoch 11/100\n",
      "353/353 [==============================] - 4s 10ms/step - loss: 0.7998 - accuracy: 0.6534 - val_loss: 1.2616 - val_accuracy: 0.3801\n",
      "Epoch 12/100\n",
      "353/353 [==============================] - 4s 10ms/step - loss: 0.7770 - accuracy: 0.6665 - val_loss: 1.2758 - val_accuracy: 0.3712\n",
      "Epoch 13/100\n",
      "353/353 [==============================] - 4s 10ms/step - loss: 0.7731 - accuracy: 0.6730 - val_loss: 1.2652 - val_accuracy: 0.3801\n",
      "Epoch 14/100\n",
      "353/353 [==============================] - 4s 10ms/step - loss: 0.7558 - accuracy: 0.6825 - val_loss: 1.3001 - val_accuracy: 0.3691\n",
      "Epoch 15/100\n",
      "353/353 [==============================] - 4s 10ms/step - loss: 0.7498 - accuracy: 0.6838 - val_loss: 1.3257 - val_accuracy: 0.3741\n",
      "Epoch 16/100\n",
      "353/353 [==============================] - 4s 11ms/step - loss: 0.7391 - accuracy: 0.6835 - val_loss: 1.3275 - val_accuracy: 0.3677\n",
      "Epoch 17/100\n",
      "353/353 [==============================] - 4s 10ms/step - loss: 0.7295 - accuracy: 0.6975 - val_loss: 1.3100 - val_accuracy: 0.3769\n",
      "Epoch 18/100\n",
      "353/353 [==============================] - 4s 10ms/step - loss: 0.7150 - accuracy: 0.7046 - val_loss: 1.3124 - val_accuracy: 0.3822\n",
      "Epoch 19/100\n",
      "353/353 [==============================] - 4s 10ms/step - loss: 0.7115 - accuracy: 0.7025 - val_loss: 1.3049 - val_accuracy: 0.3719\n",
      "Epoch 20/100\n",
      "353/353 [==============================] - 4s 10ms/step - loss: 0.7143 - accuracy: 0.7022 - val_loss: 1.3113 - val_accuracy: 0.3656\n",
      "Epoch 21/100\n",
      "353/353 [==============================] - 4s 10ms/step - loss: 0.6994 - accuracy: 0.7102 - val_loss: 1.3808 - val_accuracy: 0.3762\n",
      "Epoch 22/100\n",
      "353/353 [==============================] - 4s 10ms/step - loss: 0.6888 - accuracy: 0.7183 - val_loss: 1.3545 - val_accuracy: 0.3656\n",
      "Epoch 23/100\n",
      "353/353 [==============================] - 4s 10ms/step - loss: 0.6834 - accuracy: 0.7174 - val_loss: 1.3114 - val_accuracy: 0.3758\n",
      "Epoch 24/100\n",
      "353/353 [==============================] - 4s 10ms/step - loss: 0.6804 - accuracy: 0.7210 - val_loss: 1.3841 - val_accuracy: 0.3670\n",
      "Epoch 25/100\n",
      "353/353 [==============================] - 4s 10ms/step - loss: 0.6821 - accuracy: 0.7165 - val_loss: 1.3352 - val_accuracy: 0.3769\n",
      "Epoch 26/100\n",
      "353/353 [==============================] - 4s 10ms/step - loss: 0.6697 - accuracy: 0.7238 - val_loss: 1.3967 - val_accuracy: 0.3882\n",
      "Epoch 27/100\n",
      "353/353 [==============================] - 4s 10ms/step - loss: 0.6694 - accuracy: 0.7266 - val_loss: 1.3489 - val_accuracy: 0.3730\n",
      "Epoch 28/100\n",
      "353/353 [==============================] - 4s 10ms/step - loss: 0.6572 - accuracy: 0.7300 - val_loss: 1.3698 - val_accuracy: 0.3769\n",
      "Epoch 29/100\n",
      "353/353 [==============================] - 4s 10ms/step - loss: 0.6622 - accuracy: 0.7313 - val_loss: 1.3878 - val_accuracy: 0.3691\n",
      "Epoch 30/100\n",
      "353/353 [==============================] - 4s 10ms/step - loss: 0.6561 - accuracy: 0.7333 - val_loss: 1.3946 - val_accuracy: 0.3762\n",
      "Epoch 31/100\n",
      "353/353 [==============================] - 4s 10ms/step - loss: 0.6530 - accuracy: 0.7357 - val_loss: 1.4040 - val_accuracy: 0.3765\n",
      "Epoch 32/100\n",
      "353/353 [==============================] - 4s 10ms/step - loss: 0.6470 - accuracy: 0.7350 - val_loss: 1.4251 - val_accuracy: 0.3801\n",
      "Epoch 33/100\n",
      "353/353 [==============================] - 4s 10ms/step - loss: 0.6527 - accuracy: 0.7318 - val_loss: 1.3814 - val_accuracy: 0.3822\n",
      "Epoch 34/100\n",
      "353/353 [==============================] - 4s 10ms/step - loss: 0.6407 - accuracy: 0.7415 - val_loss: 1.3708 - val_accuracy: 0.3868\n",
      "Epoch 35/100\n",
      "353/353 [==============================] - 4s 10ms/step - loss: 0.6412 - accuracy: 0.7404 - val_loss: 1.4442 - val_accuracy: 0.3829\n",
      "Epoch 36/100\n",
      "353/353 [==============================] - 4s 10ms/step - loss: 0.6354 - accuracy: 0.7405 - val_loss: 1.4425 - val_accuracy: 0.3819\n",
      "Epoch 37/100\n",
      "353/353 [==============================] - 4s 10ms/step - loss: 0.6310 - accuracy: 0.7420 - val_loss: 1.4745 - val_accuracy: 0.3797\n",
      "Epoch 38/100\n",
      "353/353 [==============================] - 4s 10ms/step - loss: 0.6371 - accuracy: 0.7392 - val_loss: 1.4115 - val_accuracy: 0.3822\n",
      "Epoch 39/100\n",
      "353/353 [==============================] - 4s 10ms/step - loss: 0.6336 - accuracy: 0.7428 - val_loss: 1.4123 - val_accuracy: 0.3737\n",
      "Epoch 40/100\n",
      "353/353 [==============================] - 4s 10ms/step - loss: 0.6280 - accuracy: 0.7427 - val_loss: 1.4014 - val_accuracy: 0.3755\n",
      "Epoch 41/100\n",
      "353/353 [==============================] - 4s 10ms/step - loss: 0.6123 - accuracy: 0.7518 - val_loss: 1.4458 - val_accuracy: 0.3719\n",
      "Epoch 42/100\n",
      "353/353 [==============================] - 4s 10ms/step - loss: 0.6206 - accuracy: 0.7474 - val_loss: 1.4631 - val_accuracy: 0.3847\n",
      "Epoch 43/100\n",
      "353/353 [==============================] - 4s 10ms/step - loss: 0.6213 - accuracy: 0.7498 - val_loss: 1.4239 - val_accuracy: 0.3900\n",
      "Epoch 44/100\n",
      "353/353 [==============================] - 4s 10ms/step - loss: 0.6200 - accuracy: 0.7448 - val_loss: 1.3888 - val_accuracy: 0.3868\n",
      "Epoch 45/100\n",
      "353/353 [==============================] - 4s 10ms/step - loss: 0.6199 - accuracy: 0.7474 - val_loss: 1.4027 - val_accuracy: 0.3918\n",
      "Epoch 46/100\n",
      "353/353 [==============================] - 4s 10ms/step - loss: 0.6098 - accuracy: 0.7557 - val_loss: 1.4074 - val_accuracy: 0.3879\n",
      "Epoch 47/100\n",
      "353/353 [==============================] - 4s 10ms/step - loss: 0.6083 - accuracy: 0.7545 - val_loss: 1.4143 - val_accuracy: 0.3840\n",
      "Epoch 48/100\n",
      "353/353 [==============================] - 4s 10ms/step - loss: 0.6071 - accuracy: 0.7520 - val_loss: 1.4598 - val_accuracy: 0.3833\n",
      "Epoch 49/100\n",
      "353/353 [==============================] - 4s 10ms/step - loss: 0.6090 - accuracy: 0.7549 - val_loss: 1.4261 - val_accuracy: 0.3780\n",
      "Epoch 50/100\n",
      "353/353 [==============================] - 4s 10ms/step - loss: 0.6052 - accuracy: 0.7560 - val_loss: 1.4069 - val_accuracy: 0.3939\n",
      "Epoch 51/100\n",
      "353/353 [==============================] - 4s 10ms/step - loss: 0.5974 - accuracy: 0.7585 - val_loss: 1.4578 - val_accuracy: 0.3889\n",
      "Epoch 52/100\n",
      "353/353 [==============================] - 4s 10ms/step - loss: 0.6025 - accuracy: 0.7564 - val_loss: 1.4334 - val_accuracy: 0.3918\n",
      "Epoch 53/100\n",
      "353/353 [==============================] - 4s 10ms/step - loss: 0.5887 - accuracy: 0.7604 - val_loss: 1.4576 - val_accuracy: 0.3886\n",
      "Epoch 54/100\n",
      "353/353 [==============================] - 4s 10ms/step - loss: 0.5987 - accuracy: 0.7583 - val_loss: 1.4296 - val_accuracy: 0.3854\n",
      "Epoch 55/100\n",
      "353/353 [==============================] - 4s 10ms/step - loss: 0.5887 - accuracy: 0.7641 - val_loss: 1.4635 - val_accuracy: 0.3790\n",
      "Epoch 56/100\n",
      "353/353 [==============================] - 4s 10ms/step - loss: 0.5929 - accuracy: 0.7614 - val_loss: 1.4422 - val_accuracy: 0.3765\n",
      "Epoch 57/100\n",
      "353/353 [==============================] - 4s 10ms/step - loss: 0.5829 - accuracy: 0.7651 - val_loss: 1.4321 - val_accuracy: 0.3727\n",
      "Epoch 58/100\n",
      "353/353 [==============================] - 4s 10ms/step - loss: 0.5816 - accuracy: 0.7640 - val_loss: 1.5069 - val_accuracy: 0.3741\n",
      "Epoch 59/100\n",
      "353/353 [==============================] - 4s 10ms/step - loss: 0.5941 - accuracy: 0.7602 - val_loss: 1.4483 - val_accuracy: 0.3815\n",
      "Epoch 60/100\n",
      "353/353 [==============================] - 4s 10ms/step - loss: 0.5811 - accuracy: 0.7661 - val_loss: 1.5299 - val_accuracy: 0.3822\n",
      "Epoch 61/100\n",
      "353/353 [==============================] - 4s 10ms/step - loss: 0.5787 - accuracy: 0.7645 - val_loss: 1.4728 - val_accuracy: 0.3833\n",
      "Epoch 62/100\n",
      "353/353 [==============================] - 4s 10ms/step - loss: 0.5612 - accuracy: 0.7742 - val_loss: 1.4815 - val_accuracy: 0.3762\n",
      "Epoch 63/100\n",
      "353/353 [==============================] - 4s 11ms/step - loss: 0.5749 - accuracy: 0.7708 - val_loss: 1.4819 - val_accuracy: 0.3886\n",
      "Epoch 64/100\n",
      "353/353 [==============================] - 4s 10ms/step - loss: 0.5788 - accuracy: 0.7684 - val_loss: 1.5007 - val_accuracy: 0.3879\n",
      "Epoch 65/100\n",
      "353/353 [==============================] - 4s 10ms/step - loss: 0.5723 - accuracy: 0.7738 - val_loss: 1.5027 - val_accuracy: 0.3897\n",
      "Epoch 66/100\n",
      "353/353 [==============================] - 4s 10ms/step - loss: 0.5761 - accuracy: 0.7660 - val_loss: 1.5299 - val_accuracy: 0.3900\n",
      "Epoch 67/100\n",
      "353/353 [==============================] - 4s 10ms/step - loss: 0.5705 - accuracy: 0.7690 - val_loss: 1.4499 - val_accuracy: 0.3861\n",
      "Epoch 68/100\n",
      "353/353 [==============================] - 4s 10ms/step - loss: 0.5656 - accuracy: 0.7701 - val_loss: 1.5202 - val_accuracy: 0.3794\n",
      "Epoch 69/100\n",
      "353/353 [==============================] - 4s 10ms/step - loss: 0.5528 - accuracy: 0.7782 - val_loss: 1.5596 - val_accuracy: 0.3801\n",
      "Epoch 70/100\n",
      "353/353 [==============================] - 4s 10ms/step - loss: 0.5510 - accuracy: 0.7787 - val_loss: 1.5287 - val_accuracy: 0.3854\n",
      "Epoch 71/100\n",
      "353/353 [==============================] - 4s 10ms/step - loss: 0.5613 - accuracy: 0.7762 - val_loss: 1.4971 - val_accuracy: 0.3847\n",
      "Epoch 72/100\n",
      "353/353 [==============================] - 4s 10ms/step - loss: 0.5568 - accuracy: 0.7727 - val_loss: 1.5087 - val_accuracy: 0.3879\n",
      "Epoch 73/100\n",
      "353/353 [==============================] - 4s 10ms/step - loss: 0.5622 - accuracy: 0.7741 - val_loss: 1.5253 - val_accuracy: 0.3819\n",
      "Epoch 74/100\n",
      "353/353 [==============================] - 4s 10ms/step - loss: 0.5578 - accuracy: 0.7755 - val_loss: 1.5169 - val_accuracy: 0.3797\n",
      "Epoch 75/100\n",
      "353/353 [==============================] - 4s 10ms/step - loss: 0.5436 - accuracy: 0.7819 - val_loss: 1.5575 - val_accuracy: 0.3854\n",
      "Epoch 76/100\n",
      "353/353 [==============================] - 4s 10ms/step - loss: 0.5536 - accuracy: 0.7758 - val_loss: 1.5369 - val_accuracy: 0.3758\n",
      "Epoch 77/100\n",
      "353/353 [==============================] - 4s 10ms/step - loss: 0.5525 - accuracy: 0.7778 - val_loss: 1.5390 - val_accuracy: 0.3808\n",
      "Epoch 78/100\n",
      "353/353 [==============================] - 4s 10ms/step - loss: 0.5486 - accuracy: 0.7785 - val_loss: 1.5448 - val_accuracy: 0.3790\n",
      "Epoch 79/100\n",
      "353/353 [==============================] - 4s 10ms/step - loss: 0.5407 - accuracy: 0.7832 - val_loss: 1.5068 - val_accuracy: 0.3843\n",
      "Epoch 80/100\n",
      "353/353 [==============================] - 4s 10ms/step - loss: 0.5400 - accuracy: 0.7839 - val_loss: 1.5135 - val_accuracy: 0.3904\n",
      "Epoch 81/100\n",
      "353/353 [==============================] - 4s 10ms/step - loss: 0.5410 - accuracy: 0.7818 - val_loss: 1.5358 - val_accuracy: 0.3801\n",
      "Epoch 82/100\n",
      "353/353 [==============================] - 4s 10ms/step - loss: 0.5373 - accuracy: 0.7839 - val_loss: 1.5243 - val_accuracy: 0.3826\n",
      "Epoch 83/100\n",
      "353/353 [==============================] - 4s 10ms/step - loss: 0.5379 - accuracy: 0.7800 - val_loss: 1.5328 - val_accuracy: 0.3801\n",
      "Epoch 84/100\n",
      "353/353 [==============================] - 4s 10ms/step - loss: 0.5299 - accuracy: 0.7864 - val_loss: 1.5849 - val_accuracy: 0.3719\n",
      "Epoch 85/100\n",
      "353/353 [==============================] - 4s 10ms/step - loss: 0.5350 - accuracy: 0.7857 - val_loss: 1.5342 - val_accuracy: 0.3801\n",
      "Epoch 86/100\n",
      "353/353 [==============================] - 4s 10ms/step - loss: 0.5325 - accuracy: 0.7858 - val_loss: 1.5620 - val_accuracy: 0.3886\n",
      "Epoch 87/100\n",
      "353/353 [==============================] - 4s 10ms/step - loss: 0.5269 - accuracy: 0.7897 - val_loss: 1.5937 - val_accuracy: 0.3836\n",
      "Epoch 88/100\n",
      "353/353 [==============================] - 4s 10ms/step - loss: 0.5334 - accuracy: 0.7831 - val_loss: 1.5502 - val_accuracy: 0.3907\n",
      "Epoch 89/100\n",
      "353/353 [==============================] - 4s 10ms/step - loss: 0.5177 - accuracy: 0.7959 - val_loss: 1.5680 - val_accuracy: 0.3780\n",
      "Epoch 90/100\n",
      "353/353 [==============================] - 4s 10ms/step - loss: 0.5316 - accuracy: 0.7866 - val_loss: 1.5716 - val_accuracy: 0.3794\n",
      "Epoch 91/100\n",
      "353/353 [==============================] - 4s 10ms/step - loss: 0.5226 - accuracy: 0.7897 - val_loss: 1.5918 - val_accuracy: 0.3865\n",
      "Epoch 92/100\n",
      "353/353 [==============================] - 4s 10ms/step - loss: 0.5204 - accuracy: 0.7915 - val_loss: 1.6040 - val_accuracy: 0.3819\n",
      "Epoch 93/100\n",
      "353/353 [==============================] - 4s 10ms/step - loss: 0.5178 - accuracy: 0.7917 - val_loss: 1.5268 - val_accuracy: 0.3751\n",
      "Epoch 94/100\n",
      "353/353 [==============================] - 4s 10ms/step - loss: 0.5179 - accuracy: 0.7917 - val_loss: 1.5846 - val_accuracy: 0.3812\n",
      "Epoch 95/100\n",
      "353/353 [==============================] - 4s 10ms/step - loss: 0.5102 - accuracy: 0.7933 - val_loss: 1.5741 - val_accuracy: 0.3833\n",
      "Epoch 96/100\n",
      "353/353 [==============================] - 4s 10ms/step - loss: 0.5156 - accuracy: 0.7943 - val_loss: 1.5385 - val_accuracy: 0.3928\n",
      "Epoch 97/100\n",
      "353/353 [==============================] - 4s 10ms/step - loss: 0.5186 - accuracy: 0.7861 - val_loss: 1.5401 - val_accuracy: 0.3893\n",
      "Epoch 98/100\n",
      "353/353 [==============================] - 4s 10ms/step - loss: 0.5013 - accuracy: 0.7991 - val_loss: 1.6311 - val_accuracy: 0.3829\n",
      "Epoch 99/100\n",
      "353/353 [==============================] - 4s 10ms/step - loss: 0.5059 - accuracy: 0.7986 - val_loss: 1.6399 - val_accuracy: 0.3918\n",
      "Epoch 100/100\n",
      "353/353 [==============================] - 4s 10ms/step - loss: 0.5091 - accuracy: 0.7993 - val_loss: 1.5895 - val_accuracy: 0.3865\n"
     ]
    }
   ],
   "source": [
    "EPOCH = 100\n",
    "\n",
    "history = model.fit(\n",
    "            train_dataset,\n",
    "            validation_data = validation_dataset,\n",
    "            epochs = EPOCH,\n",
    "            batch_size = 32,\n",
    "            callbacks=[callbacks])"
   ]
  },
  {
   "cell_type": "markdown",
   "id": "bc3b5383",
   "metadata": {},
   "source": [
    "### Training evaluation"
   ]
  },
  {
   "cell_type": "code",
   "execution_count": 44,
   "id": "c0d8c044",
   "metadata": {},
   "outputs": [
    {
     "data": {
      "image/png": "[encoded data removed]",
      "text/plain": [
       "<Figure size 800x800 with 2 Axes>"
      ]
     },
     "metadata": {},
     "output_type": "display_data"
    }
   ],
   "source": [
    "plt.figure(figsize=(8, 8))\n",
    "\n",
    "# training and validation accuracy\n",
    "acc = history.history['accuracy']\n",
    "val_acc = history.history['val_accuracy']\n",
    "\n",
    "plt.subplot(2, 1, 1)\n",
    "plt.plot(acc, label='Training Accuracy')\n",
    "plt.plot(val_acc, label='Validation Accuracy')\n",
    "plt.legend(loc='lower right')\n",
    "plt.ylabel('Accuracy')\n",
    "plt.xlabel('Epoch')\n",
    "# plt.ylim([min(plt.ylim()),1])\n",
    "plt.title('Accuracy', size=15, fontweight='bold')\n",
    "\n",
    "# training and validation loss\n",
    "loss = history.history['loss']\n",
    "val_loss = history.history['val_loss']\n",
    "\n",
    "plt.subplot(2, 1, 2)\n",
    "plt.plot(loss, label='Training Loss')\n",
    "plt.plot(val_loss, label='Validation Loss')\n",
    "plt.legend(loc='upper right')\n",
    "plt.ylabel('Cross Entropy')\n",
    "plt.xlabel('Epoch')\n",
    "# plt.ylim([0,1.0])\n",
    "plt.title('Loss', size=15, fontweight='bold')\n",
    "\n",
    "plt.subplots_adjust(hspace=0.3)\n",
    "plt.show()"
   ]
  }
 ],
 "metadata": {
  "kernelspec": {
   "display_name": "Python 3 (ipykernel)",
   "language": "python",
   "name": "python3"
  },
  "language_info": {
   "codemirror_mode": {
    "name": "ipython",
    "version": 3
   },
   "file_extension": ".py",
   "mimetype": "text/x-python",
   "name": "python",
   "nbconvert_exporter": "python",
   "pygments_lexer": "ipython3",
   "version": "3.8.10"
  }
 },
 "nbformat": 4,
 "nbformat_minor": 5
}
