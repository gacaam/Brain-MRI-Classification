{
 "cells": [
  {
   "cell_type": "code",
   "execution_count": 6,
   "id": "90fab494",
   "metadata": {},
   "outputs": [],
   "source": [
    "import tensorflow as tf\n",
    "from tensorflow.keras.utils import image_dataset_from_directory\n",
    "from sklearn.metrics import confusion_matrix, precision_score, recall_score\n",
    "import seaborn as sns\n",
    "import matplotlib.pyplot as plt\n",
    "import numpy as np\n",
    "import os\n",
    "# import pandas as pd"
   ]
  },
  {
   "cell_type": "markdown",
   "id": "0dd99d6c",
   "metadata": {},
   "source": [
    "### Load dataset"
   ]
  },
  {
   "cell_type": "code",
   "execution_count": 4,
   "id": "4f7655ad",
   "metadata": {},
   "outputs": [
    {
     "name": "stdout",
     "output_type": "stream",
     "text": [
      "Found 21408 files belonging to 3 classes.\n"
     ]
    }
   ],
   "source": [
    "batch_size = 32\n",
    "img_height = 184\n",
    "img_width = 216\n",
    "img_size = (img_height, img_width)\n",
    "img_shape = img_size + (3,)\n",
    "ds_path = \"/drive0-storage/Gracia/dataset_1\"\n",
    "\n",
    "with tf.device(\"CPU\"):\n",
    "    test_ds = image_dataset_from_directory(ds_path,\n",
    "                                        seed = 123,\n",
    "                                        image_size = img_size,\n",
    "                                        batch_size = batch_size)\n"
   ]
  },
  {
   "cell_type": "code",
   "execution_count": 5,
   "id": "a02dbdfd",
   "metadata": {},
   "outputs": [
    {
     "name": "stdout",
     "output_type": "stream",
     "text": [
      "['bipolar_disorder', 'healthy_controls', 'schizophrenia']\n"
     ]
    }
   ],
   "source": [
    "class_names = test_ds.class_names\n",
    "num_classes = len(class_names)\n",
    "\n",
    "print(class_names)"
   ]
  },
  {
   "cell_type": "markdown",
   "id": "1bd2e133",
   "metadata": {},
   "source": [
    "### Load Model"
   ]
  },
  {
   "cell_type": "code",
   "execution_count": 7,
   "id": "71c818a5",
   "metadata": {},
   "outputs": [],
   "source": [
    "model = tf.keras.models.load_model('./models/cnn3_20epoch.h5')"
   ]
  },
  {
   "cell_type": "markdown",
   "id": "0ba8d381",
   "metadata": {},
   "source": [
    "### Testing"
   ]
  },
  {
   "cell_type": "code",
   "execution_count": 9,
   "id": "5469fa10",
   "metadata": {},
   "outputs": [
    {
     "name": "stderr",
     "output_type": "stream",
     "text": [
      "2023-06-10 10:44:00.474658: I tensorflow/stream_executor/cuda/cuda_dnn.cc:424] Loaded cuDNN version 8600\n"
     ]
    },
    {
     "name": "stdout",
     "output_type": "stream",
     "text": [
      "  1/669 [..............................] - ETA: 32:53 - loss: 0.4353 - accuracy: 0.7812"
     ]
    },
    {
     "name": "stderr",
     "output_type": "stream",
     "text": [
      "2023-06-10 10:44:01.773556: I tensorflow/stream_executor/cuda/cuda_blas.cc:1633] TensorFloat-32 will be used for the matrix multiplication. This will only be logged once.\n"
     ]
    },
    {
     "name": "stdout",
     "output_type": "stream",
     "text": [
      "669/669 [==============================] - 41s 58ms/step - loss: 0.3102 - accuracy: 0.9005\n"
     ]
    },
    {
     "data": {
      "text/plain": [
       "{'loss': 0.3101620674133301, 'accuracy': 0.9004577994346619}"
      ]
     },
     "execution_count": 9,
     "metadata": {},
     "output_type": "execute_result"
    }
   ],
   "source": [
    "result = model.evaluate(test_ds)\n",
    "dict(zip(model.metrics_names, result))"
   ]
  },
  {
   "cell_type": "code",
   "execution_count": null,
   "id": "48e4802e",
   "metadata": {},
   "outputs": [],
   "source": [
    "predicted = []  # predicted labels\n",
    "true = []  # true labels\n",
    "\n",
    "for image_batch, label_batch in test_dataset:  \n",
    "    true.append(label_batch)\n",
    "    prediction = model.predict(image_batch, verbose=0)\n",
    "    predicted.append(np.argmax(prediction, axis=-1))\n",
    "\n",
    "# convert labels into tensors\n",
    "true_labels = tf.concat([item for item in true], axis=0)\n",
    "predicted_labels = tf.concat([item for item in predicted], axis=0)\n",
    "\n",
    "cf_matrix = confusion_matrix(true_labels, predicted_labels, normalize='true')\n",
    "\n",
    "# plot confusion  matrix\n",
    "plt.figure(figsize = (8,5))\n",
    "sns.heatmap(cf_matrix, \n",
    "            annot=True)\n",
    "plt.title('Confusion Matrix', size=15, fontweight='bold')\n",
    "plt.show()"
   ]
  },
  {
   "cell_type": "code",
   "execution_count": null,
   "id": "f524a8d9",
   "metadata": {},
   "outputs": [],
   "source": [
    "precision = precision_score(true_labels, predicted_labels, average='weighted')\n",
    "sensitivity = recall_score(true_labels, predicted_labels, average='weighted')\n",
    "specificity = []\n",
    "for i in range(num_classes):\n",
    "    true_negatives = np.sum(np.delete(np.delete(cf_matrix, i, axis=0), i, axis=1))\n",
    "    false_positives = np.sum(cf_matrix[:, i]) - cf_matrix[i, i]\n",
    "    specificity.append(true_negatives / (true_negatives + false_positives))\n",
    "\n",
    "# Calculate average specificity\n",
    "average_specificity = np.mean(specificity)\n",
    "\n",
    "print(\"Accuracy:\", result[1])\n",
    "print(\"Precision:\", precision)\n",
    "print(\"Sensitivity:\", sensitivity)\n",
    "print(\"Specificity:\", average_specificity)"
   ]
  }
 ],
 "metadata": {
  "kernelspec": {
   "display_name": "Python 3 (ipykernel)",
   "language": "python",
   "name": "python3"
  },
  "language_info": {
   "codemirror_mode": {
    "name": "ipython",
    "version": 3
   },
   "file_extension": ".py",
   "mimetype": "text/x-python",
   "name": "python",
   "nbconvert_exporter": "python",
   "pygments_lexer": "ipython3",
   "version": "3.8.10"
  }
 },
 "nbformat": 4,
 "nbformat_minor": 5
}
